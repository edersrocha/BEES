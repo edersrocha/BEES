{
 "cells": [
  {
   "cell_type": "code",
   "execution_count": 1,
   "id": "9a67dfa6",
   "metadata": {},
   "outputs": [],
   "source": [
    "from src.utils.spark_session import create_spark_session\n",
    "from src.config import GOLD_PATH"
   ]
  },
  {
   "cell_type": "code",
   "execution_count": null,
   "id": "99cd6634",
   "metadata": {},
   "outputs": [
    {
     "name": "stderr",
     "output_type": "stream",
     "text": [
      "your 131072x1 screen size is bogus. expect trouble\n",
      "25/07/13 16:33:48 WARN Utils: Your hostname, EDER-ROCHA resolves to a loopback address: 127.0.1.1; using 10.255.255.254 instead (on interface lo)\n",
      "25/07/13 16:33:48 WARN Utils: Set SPARK_LOCAL_IP if you need to bind to another address\n"
     ]
    },
    {
     "name": "stdout",
     "output_type": "stream",
     "text": [
      ":: loading settings :: url = jar:file:/mnt/c/Processo_Seletivo/AmBev/BEES/.venv/lib/python3.12/site-packages/pyspark/jars/ivy-2.5.1.jar!/org/apache/ivy/core/settings/ivysettings.xml\n"
     ]
    },
    {
     "name": "stderr",
     "output_type": "stream",
     "text": [
      "Ivy Default Cache set to: /home/eder3/.ivy2/cache\n",
      "The jars for the packages stored in: /home/eder3/.ivy2/jars\n",
      "io.delta#delta-spark_2.12 added as a dependency\n",
      ":: resolving dependencies :: org.apache.spark#spark-submit-parent-83792bb5-e585-4529-b0b0-bc40f133c0a2;1.0\n",
      "\tconfs: [default]\n",
      "\tfound io.delta#delta-spark_2.12;3.3.1 in central\n",
      "\tfound io.delta#delta-storage;3.3.1 in central\n",
      "\tfound org.antlr#antlr4-runtime;4.9.3 in central\n",
      ":: resolution report :: resolve 159ms :: artifacts dl 4ms\n",
      "\t:: modules in use:\n",
      "\tio.delta#delta-spark_2.12;3.3.1 from central in [default]\n",
      "\tio.delta#delta-storage;3.3.1 from central in [default]\n",
      "\torg.antlr#antlr4-runtime;4.9.3 from central in [default]\n",
      "\t---------------------------------------------------------------------\n",
      "\t|                  |            modules            ||   artifacts   |\n",
      "\t|       conf       | number| search|dwnlded|evicted|| number|dwnlded|\n",
      "\t---------------------------------------------------------------------\n",
      "\t|      default     |   3   |   0   |   0   |   0   ||   3   |   0   |\n",
      "\t---------------------------------------------------------------------\n",
      ":: retrieving :: org.apache.spark#spark-submit-parent-83792bb5-e585-4529-b0b0-bc40f133c0a2\n",
      "\tconfs: [default]\n",
      "\t0 artifacts copied, 3 already retrieved (0kB/4ms)\n",
      "25/07/13 16:33:49 WARN NativeCodeLoader: Unable to load native-hadoop library for your platform... using builtin-java classes where applicable\n",
      "Setting default log level to \"WARN\".\n",
      "To adjust logging level use sc.setLogLevel(newLevel). For SparkR, use setLogLevel(newLevel).\n"
     ]
    },
    {
     "name": "stderr",
     "output_type": "stream",
     "text": [
      "25/07/13 16:34:08 WARN GarbageCollectionMetrics: To enable non-built-in garbage collector(s) List(G1 Concurrent GC), users should configure it(them) to spark.eventLog.gcMetrics.youngGenerationGarbageCollectors or spark.eventLog.gcMetrics.oldGenerationGarbageCollectors\n"
     ]
    }
   ],
   "source": [
    "spark = create_spark_session(\"TGold Aggregation - OpenBreweryDB\")"
   ]
  },
  {
   "cell_type": "code",
   "execution_count": 4,
   "id": "e60eea62",
   "metadata": {},
   "outputs": [],
   "source": [
    "df = spark.read.format(\"delta\").load(f\"{GOLD_PATH}/brewery_per_type_and_location\")"
   ]
  },
  {
   "cell_type": "code",
   "execution_count": 9,
   "id": "0bf9a821",
   "metadata": {},
   "outputs": [
    {
     "name": "stdout",
     "output_type": "stream",
     "text": [
      "+------------+-------------+---------------+\n",
      "|BREWERY_TYPE|      COUNTRY|TOTAL_BREWERIES|\n",
      "+------------+-------------+---------------+\n",
      "|    PLANNING|UNITED STATES|            674|\n",
      "|         BAR|UNITED STATES|              2|\n",
      "|     BREWPUB|      IRELAND|              9|\n",
      "|    CONTRACT|UNITED STATES|            189|\n",
      "|    LOCATION|UNITED STATES|              1|\n",
      "|       LARGE|UNITED STATES|             74|\n",
      "|     BREWPUB|UNITED STATES|           2402|\n",
      "|    REGIONAL|      IRELAND|              9|\n",
      "|     TAPROOM|UNITED STATES|              9|\n",
      "|       LARGE|      IRELAND|              3|\n",
      "|    REGIONAL|UNITED STATES|            216|\n",
      "|        NANO|UNITED STATES|             11|\n",
      "|       MICRO|      IRELAND|             49|\n",
      "|      CLOSED|UNITED STATES|            226|\n",
      "|  PROPRIETOR|UNITED STATES|             69|\n",
      "|       MICRO|UNITED STATES|           4164|\n",
      "|       MICRO|      ENGLAND|             40|\n",
      "|     TAPROOM|      ENGLAND|             11|\n",
      "|       LARGE|      ENGLAND|              1|\n",
      "|       MICRO|  SOUTH KOREA|              5|\n",
      "+------------+-------------+---------------+\n",
      "only showing top 20 rows\n",
      "\n"
     ]
    }
   ],
   "source": [
    "df.show()"
   ]
  }
 ],
 "metadata": {
  "kernelspec": {
   "display_name": ".venv",
   "language": "python",
   "name": "python3"
  },
  "language_info": {
   "codemirror_mode": {
    "name": "ipython",
    "version": 3
   },
   "file_extension": ".py",
   "mimetype": "text/x-python",
   "name": "python",
   "nbconvert_exporter": "python",
   "pygments_lexer": "ipython3",
   "version": "3.12.3"
  }
 },
 "nbformat": 4,
 "nbformat_minor": 5
}
